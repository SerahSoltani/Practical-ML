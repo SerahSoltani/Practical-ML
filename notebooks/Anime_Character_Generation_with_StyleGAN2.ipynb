{
  "nbformat": 4,
  "nbformat_minor": 0,
  "metadata": {
    "colab": {
      "name": "Anime_Character_Generation_with_StyleGAN2.ipynb",
      "provenance": [],
      "collapsed_sections": []
    },
    "kernelspec": {
      "display_name": "Python 3",
      "name": "python3"
    },
    "accelerator": "GPU",
    "widgets": {
      "application/vnd.jupyter.widget-state+json": {
        "271e08050e7f473790893a074b0ec2b7": {
          "model_module": "@jupyter-widgets/controls",
          "model_name": "HBoxModel",
          "model_module_version": "1.5.0",
          "state": {
            "_view_name": "HBoxView",
            "_dom_classes": [],
            "_model_name": "HBoxModel",
            "_view_module": "@jupyter-widgets/controls",
            "_model_module_version": "1.5.0",
            "_view_count": null,
            "_view_module_version": "1.5.0",
            "box_style": "",
            "layout": "IPY_MODEL_888fe013eff54e71bbf2a7ac3bf261aa",
            "_model_module": "@jupyter-widgets/controls",
            "children": [
              "IPY_MODEL_265093de341f487dbe87cbabfd2da302",
              "IPY_MODEL_cbb944c4e5e24f0bb30f3c1e3a506196",
              "IPY_MODEL_f7c5f15cb8b54eb39c4f55e7a65be9e0"
            ]
          }
        },
        "888fe013eff54e71bbf2a7ac3bf261aa": {
          "model_module": "@jupyter-widgets/base",
          "model_name": "LayoutModel",
          "model_module_version": "1.2.0",
          "state": {
            "_view_name": "LayoutView",
            "grid_template_rows": null,
            "right": null,
            "justify_content": null,
            "_view_module": "@jupyter-widgets/base",
            "overflow": null,
            "_model_module_version": "1.2.0",
            "_view_count": null,
            "flex_flow": null,
            "width": null,
            "min_width": null,
            "border": null,
            "align_items": null,
            "bottom": null,
            "_model_module": "@jupyter-widgets/base",
            "top": null,
            "grid_column": null,
            "overflow_y": null,
            "overflow_x": null,
            "grid_auto_flow": null,
            "grid_area": null,
            "grid_template_columns": null,
            "flex": null,
            "_model_name": "LayoutModel",
            "justify_items": null,
            "grid_row": null,
            "max_height": null,
            "align_content": null,
            "visibility": null,
            "align_self": null,
            "height": null,
            "min_height": null,
            "padding": null,
            "grid_auto_rows": null,
            "grid_gap": null,
            "max_width": null,
            "order": null,
            "_view_module_version": "1.2.0",
            "grid_template_areas": null,
            "object_position": null,
            "object_fit": null,
            "grid_auto_columns": null,
            "margin": null,
            "display": null,
            "left": null
          }
        },
        "265093de341f487dbe87cbabfd2da302": {
          "model_module": "@jupyter-widgets/controls",
          "model_name": "HTMLModel",
          "model_module_version": "1.5.0",
          "state": {
            "_view_name": "HTMLView",
            "style": "IPY_MODEL_8a69ff78b5324e69af4ab2c3913e1cac",
            "_dom_classes": [],
            "description": "",
            "_model_name": "HTMLModel",
            "placeholder": "​",
            "_view_module": "@jupyter-widgets/controls",
            "_model_module_version": "1.5.0",
            "value": "100%",
            "_view_count": null,
            "_view_module_version": "1.5.0",
            "description_tooltip": null,
            "_model_module": "@jupyter-widgets/controls",
            "layout": "IPY_MODEL_c23245a742ce448ba79942509654b1ba"
          }
        },
        "cbb944c4e5e24f0bb30f3c1e3a506196": {
          "model_module": "@jupyter-widgets/controls",
          "model_name": "FloatProgressModel",
          "model_module_version": "1.5.0",
          "state": {
            "_view_name": "ProgressView",
            "style": "IPY_MODEL_2818174fc6074c7d9f4ee86a9bb0cc0a",
            "_dom_classes": [],
            "description": "",
            "_model_name": "FloatProgressModel",
            "bar_style": "success",
            "max": 156,
            "_view_module": "@jupyter-widgets/controls",
            "_model_module_version": "1.5.0",
            "value": 156,
            "_view_count": null,
            "_view_module_version": "1.5.0",
            "orientation": "horizontal",
            "min": 0,
            "description_tooltip": null,
            "_model_module": "@jupyter-widgets/controls",
            "layout": "IPY_MODEL_f0cc6945523a46079f610c44ce8d2a8d"
          }
        },
        "f7c5f15cb8b54eb39c4f55e7a65be9e0": {
          "model_module": "@jupyter-widgets/controls",
          "model_name": "HTMLModel",
          "model_module_version": "1.5.0",
          "state": {
            "_view_name": "HTMLView",
            "style": "IPY_MODEL_2b7ec77a33854535a2c4363251f282c6",
            "_dom_classes": [],
            "description": "",
            "_model_name": "HTMLModel",
            "placeholder": "​",
            "_view_module": "@jupyter-widgets/controls",
            "_model_module_version": "1.5.0",
            "value": " 156/156 [00:00&lt;00:00, 2.92kB/s]",
            "_view_count": null,
            "_view_module_version": "1.5.0",
            "description_tooltip": null,
            "_model_module": "@jupyter-widgets/controls",
            "layout": "IPY_MODEL_2b87149a759847cd8d9a7e6959a24169"
          }
        },
        "8a69ff78b5324e69af4ab2c3913e1cac": {
          "model_module": "@jupyter-widgets/controls",
          "model_name": "DescriptionStyleModel",
          "model_module_version": "1.5.0",
          "state": {
            "_view_name": "StyleView",
            "_model_name": "DescriptionStyleModel",
            "description_width": "",
            "_view_module": "@jupyter-widgets/base",
            "_model_module_version": "1.5.0",
            "_view_count": null,
            "_view_module_version": "1.2.0",
            "_model_module": "@jupyter-widgets/controls"
          }
        },
        "c23245a742ce448ba79942509654b1ba": {
          "model_module": "@jupyter-widgets/base",
          "model_name": "LayoutModel",
          "model_module_version": "1.2.0",
          "state": {
            "_view_name": "LayoutView",
            "grid_template_rows": null,
            "right": null,
            "justify_content": null,
            "_view_module": "@jupyter-widgets/base",
            "overflow": null,
            "_model_module_version": "1.2.0",
            "_view_count": null,
            "flex_flow": null,
            "width": null,
            "min_width": null,
            "border": null,
            "align_items": null,
            "bottom": null,
            "_model_module": "@jupyter-widgets/base",
            "top": null,
            "grid_column": null,
            "overflow_y": null,
            "overflow_x": null,
            "grid_auto_flow": null,
            "grid_area": null,
            "grid_template_columns": null,
            "flex": null,
            "_model_name": "LayoutModel",
            "justify_items": null,
            "grid_row": null,
            "max_height": null,
            "align_content": null,
            "visibility": null,
            "align_self": null,
            "height": null,
            "min_height": null,
            "padding": null,
            "grid_auto_rows": null,
            "grid_gap": null,
            "max_width": null,
            "order": null,
            "_view_module_version": "1.2.0",
            "grid_template_areas": null,
            "object_position": null,
            "object_fit": null,
            "grid_auto_columns": null,
            "margin": null,
            "display": null,
            "left": null
          }
        },
        "2818174fc6074c7d9f4ee86a9bb0cc0a": {
          "model_module": "@jupyter-widgets/controls",
          "model_name": "ProgressStyleModel",
          "model_module_version": "1.5.0",
          "state": {
            "_view_name": "StyleView",
            "_model_name": "ProgressStyleModel",
            "description_width": "",
            "_view_module": "@jupyter-widgets/base",
            "_model_module_version": "1.5.0",
            "_view_count": null,
            "_view_module_version": "1.2.0",
            "bar_color": null,
            "_model_module": "@jupyter-widgets/controls"
          }
        },
        "f0cc6945523a46079f610c44ce8d2a8d": {
          "model_module": "@jupyter-widgets/base",
          "model_name": "LayoutModel",
          "model_module_version": "1.2.0",
          "state": {
            "_view_name": "LayoutView",
            "grid_template_rows": null,
            "right": null,
            "justify_content": null,
            "_view_module": "@jupyter-widgets/base",
            "overflow": null,
            "_model_module_version": "1.2.0",
            "_view_count": null,
            "flex_flow": null,
            "width": null,
            "min_width": null,
            "border": null,
            "align_items": null,
            "bottom": null,
            "_model_module": "@jupyter-widgets/base",
            "top": null,
            "grid_column": null,
            "overflow_y": null,
            "overflow_x": null,
            "grid_auto_flow": null,
            "grid_area": null,
            "grid_template_columns": null,
            "flex": null,
            "_model_name": "LayoutModel",
            "justify_items": null,
            "grid_row": null,
            "max_height": null,
            "align_content": null,
            "visibility": null,
            "align_self": null,
            "height": null,
            "min_height": null,
            "padding": null,
            "grid_auto_rows": null,
            "grid_gap": null,
            "max_width": null,
            "order": null,
            "_view_module_version": "1.2.0",
            "grid_template_areas": null,
            "object_position": null,
            "object_fit": null,
            "grid_auto_columns": null,
            "margin": null,
            "display": null,
            "left": null
          }
        },
        "2b7ec77a33854535a2c4363251f282c6": {
          "model_module": "@jupyter-widgets/controls",
          "model_name": "DescriptionStyleModel",
          "model_module_version": "1.5.0",
          "state": {
            "_view_name": "StyleView",
            "_model_name": "DescriptionStyleModel",
            "description_width": "",
            "_view_module": "@jupyter-widgets/base",
            "_model_module_version": "1.5.0",
            "_view_count": null,
            "_view_module_version": "1.2.0",
            "_model_module": "@jupyter-widgets/controls"
          }
        },
        "2b87149a759847cd8d9a7e6959a24169": {
          "model_module": "@jupyter-widgets/base",
          "model_name": "LayoutModel",
          "model_module_version": "1.2.0",
          "state": {
            "_view_name": "LayoutView",
            "grid_template_rows": null,
            "right": null,
            "justify_content": null,
            "_view_module": "@jupyter-widgets/base",
            "overflow": null,
            "_model_module_version": "1.2.0",
            "_view_count": null,
            "flex_flow": null,
            "width": null,
            "min_width": null,
            "border": null,
            "align_items": null,
            "bottom": null,
            "_model_module": "@jupyter-widgets/base",
            "top": null,
            "grid_column": null,
            "overflow_y": null,
            "overflow_x": null,
            "grid_auto_flow": null,
            "grid_area": null,
            "grid_template_columns": null,
            "flex": null,
            "_model_name": "LayoutModel",
            "justify_items": null,
            "grid_row": null,
            "max_height": null,
            "align_content": null,
            "visibility": null,
            "align_self": null,
            "height": null,
            "min_height": null,
            "padding": null,
            "grid_auto_rows": null,
            "grid_gap": null,
            "max_width": null,
            "order": null,
            "_view_module_version": "1.2.0",
            "grid_template_areas": null,
            "object_position": null,
            "object_fit": null,
            "grid_auto_columns": null,
            "margin": null,
            "display": null,
            "left": null
          }
        }
      }
    }
  },
  "cells": [
    {
      "cell_type": "markdown",
      "metadata": {
        "id": "ghGVTZ-Y6S_Z"
      },
      "source": [
        "# Anime Character Generation with StyleGAN2\n",
        "\n",
        "---\n",
        "\n",
        "[Github](https://github.com/eugenesiow/practical-ml/) | More Notebooks @ [eugenesiow/practical-ml](https://github.com/eugenesiow/practical-ml)\n",
        "\n",
        "---"
      ]
    },
    {
      "cell_type": "markdown",
      "metadata": {
        "id": "Cwf6Bztw6gdI"
      },
      "source": [
        "Notebook to generate anime characters using a pre-trained StyleGAN2 model. \n",
        "\n",
        "We utilise the awesome lucidrains's [stylegan2-pytorch](https://github.com/lucidrains/stylegan2-pytorch) library with our [pre-trained model](https://huggingface.co/eugenesiow/ani-chara-gan) to generate 128x128 female anime characters.\n",
        "\n",
        "The notebook is structured as follows:\n",
        "* Setting up the Environment\n",
        "* Using the Models (Running Inference)"
      ]
    },
    {
      "cell_type": "markdown",
      "metadata": {
        "id": "j0s12X7Y8tig"
      },
      "source": [
        "# Setting up the Environment"
      ]
    },
    {
      "cell_type": "markdown",
      "metadata": {
        "id": "y0VGNojv85Mu"
      },
      "source": [
        "#### Ensure we have a GPU runtime\n",
        "\n",
        "If you're running this notebook in Google Colab, select `Runtime` > `Change Runtime Type` from the menubar. Ensure that `GPU` is selected as the `Hardware accelerator`. This will allow us to use the GPU to train the model subsequently.\n",
        "\n",
        "The library requires that you have access to a `GPU`.\n",
        "\n"
      ]
    },
    {
      "cell_type": "markdown",
      "metadata": {
        "id": "QDt1NAOJURm8"
      },
      "source": [
        "#### Setup Dependencies\n",
        "\n",
        "We need to setup the `stylegan2_pytorch` library so lets install it."
      ]
    },
    {
      "cell_type": "code",
      "metadata": {
        "colab": {
          "base_uri": "https://localhost:8080/"
        },
        "id": "3YATpoZCTjEA",
        "outputId": "360583e0-2612-4aef-ff39-8c4341ba8901"
      },
      "source": [
        "!pip install -q stylegan2_pytorch==1.5.10"
      ],
      "execution_count": 14,
      "outputs": [
        {
          "output_type": "stream",
          "name": "stdout",
          "text": [
            "\u001b[K     |████████████████████████████████| 15.7 MB 62 kB/s \n",
            "\u001b[K     |████████████████████████████████| 23.3 MB 47.3 MB/s \n",
            "\u001b[K     |████████████████████████████████| 3.1 MB 42.0 MB/s \n",
            "\u001b[K     |██████████████████████████████▎ | 834.1 MB 1.3 MB/s eta 0:00:36tcmalloc: large alloc 1147494400 bytes == 0x5567c5ef0000 @  0x7fd430769615 0x5567c28f94cc 0x5567c29d947a 0x5567c28fc2ed 0x5567c29ede1d 0x5567c296fe99 0x5567c296a9ee 0x5567c28fdbda 0x5567c296fd00 0x5567c296a9ee 0x5567c28fdbda 0x5567c296c737 0x5567c29eec66 0x5567c296bdaf 0x5567c29eec66 0x5567c296bdaf 0x5567c29eec66 0x5567c296bdaf 0x5567c28fe039 0x5567c2941409 0x5567c28fcc52 0x5567c296fc25 0x5567c296a9ee 0x5567c28fdbda 0x5567c296c737 0x5567c296a9ee 0x5567c28fdbda 0x5567c296b915 0x5567c28fdafa 0x5567c296bc0d 0x5567c296a9ee\n",
            "\u001b[K     |████████████████████████████████| 881.9 MB 19 kB/s \n",
            "\u001b[K     |████████████████████████████████| 76 kB 4.0 MB/s \n",
            "\u001b[K     |████████████████████████████████| 97 kB 6.2 MB/s \n",
            "\u001b[K     |████████████████████████████████| 1.1 MB 38.9 MB/s \n",
            "\u001b[K     |████████████████████████████████| 1.6 MB 38.7 MB/s \n",
            "\u001b[K     |████████████████████████████████| 40 kB 1.1 MB/s \n",
            "\u001b[K     |████████████████████████████████| 67 kB 5.8 MB/s \n",
            "\u001b[K     |████████████████████████████████| 150 kB 43.9 MB/s \n",
            "\u001b[K     |████████████████████████████████| 98 kB 7.4 MB/s \n",
            "\u001b[?25h  Building wheel for termcolor (setup.py) ... \u001b[?25l\u001b[?25hdone\n",
            "\u001b[31mERROR: pip's dependency resolver does not currently take into account all the packages that are installed. This behaviour is the source of the following dependency conflicts.\n",
            "torchtext 0.10.0 requires torch==1.9.0, but you have torch 1.10.0 which is incompatible.\n",
            "tensorflow 2.6.0 requires numpy~=1.19.2, but you have numpy 1.21.4 which is incompatible.\n",
            "tensorflow 2.6.0 requires six~=1.15.0, but you have six 1.16.0 which is incompatible.\n",
            "tensorflow 2.6.0 requires typing-extensions~=3.7.4, but you have typing-extensions 3.10.0.2 which is incompatible.\n",
            "moviepy 0.2.3.5 requires decorator<5.0,>=4.0.2, but you have decorator 5.1.0 which is incompatible.\n",
            "google-colab 1.0.0 requires six~=1.15.0, but you have six 1.16.0 which is incompatible.\n",
            "flask 1.1.4 requires click<8.0,>=5.1, but you have click 8.0.3 which is incompatible.\n",
            "datascience 0.10.6 requires folium==0.2.1, but you have folium 0.8.3 which is incompatible.\n",
            "albumentations 0.1.12 requires imgaug<0.2.7,>=0.2.5, but you have imgaug 0.2.9 which is incompatible.\u001b[0m\n"
          ]
        }
      ]
    },
    {
      "cell_type": "markdown",
      "metadata": {
        "id": "JUC_O6Pi_5nK"
      },
      "source": [
        "# Using the Model (Running Inference)"
      ]
    },
    {
      "cell_type": "markdown",
      "metadata": {
        "id": "-YV9rX39XZHM"
      },
      "source": [
        "First we download the checkpoint weights from the pre-trained model which is stored on the superb huggingface model hub.\n",
        "\n",
        "We make use of the `torch.hub.download_url_to_file` function to download the model weights stored in a `.pt` file to a folder stucture we have created."
      ]
    },
    {
      "cell_type": "code",
      "metadata": {
        "colab": {
          "base_uri": "https://localhost:8080/",
          "height": 49,
          "referenced_widgets": [
            "271e08050e7f473790893a074b0ec2b7",
            "888fe013eff54e71bbf2a7ac3bf261aa",
            "265093de341f487dbe87cbabfd2da302",
            "cbb944c4e5e24f0bb30f3c1e3a506196",
            "f7c5f15cb8b54eb39c4f55e7a65be9e0",
            "8a69ff78b5324e69af4ab2c3913e1cac",
            "c23245a742ce448ba79942509654b1ba",
            "2818174fc6074c7d9f4ee86a9bb0cc0a",
            "f0cc6945523a46079f610c44ce8d2a8d",
            "2b7ec77a33854535a2c4363251f282c6",
            "2b87149a759847cd8d9a7e6959a24169"
          ]
        },
        "id": "D8qPG-m8Uo6W",
        "outputId": "7eda6825-ee65-4755-bf92-bec80d0c6793"
      },
      "source": [
        "import torch\n",
        "from pathlib import Path\n",
        "\n",
        "Path('/content/models/ani-chara-gan/').mkdir(parents=True, exist_ok=True)\n",
        "torch.hub.download_url_to_file('https://huggingface.co/eugenesiow/ani-chara-gan/resolve/main/model.pt',\n",
        "                               '/content/models/ani-chara-gan/model_150.pt')\n",
        "torch.hub.download_url_to_file('https://huggingface.co/eugenesiow/ani-chara-gan/resolve/main/.config.json',\n",
        "                               '/content/models/ani-chara-gan/.config.json')"
      ],
      "execution_count": 30,
      "outputs": [
        {
          "output_type": "display_data",
          "data": {
            "application/vnd.jupyter.widget-view+json": {
              "model_id": "271e08050e7f473790893a074b0ec2b7",
              "version_minor": 0,
              "version_major": 2
            },
            "text/plain": [
              "  0%|          | 0.00/156 [00:00<?, ?B/s]"
            ]
          },
          "metadata": {}
        }
      ]
    },
    {
      "cell_type": "markdown",
      "metadata": {
        "id": "dI15rcBwEdfv"
      },
      "source": [
        "Next we run inference to generate our image from the Anime Character GAN.\n",
        "\n",
        "Specifically we are running the following steps:\n",
        "\n",
        "* Load the model using lucidrain's library and the `ModelLoader` convenience function. The model is loaded from the directory we have downloaded the pre-trained model to `/content/models/ani-chara-gan/`.\n",
        "* Randomly initialise with some `noise`.\n",
        "* Use the convenience function `noise_to_styles`. This basically passes the noise vector through the network to get the style vector. At the backend, this calls `model.GAN.SE(noise)`.\n",
        "* Use the convenience function `styles_to_images` to call the generator on the style vector. At the backend, this roughly calls `model.GAN.GE(styles)`.\n",
        "* Save the output vector to an image with `save_image`.\n",
        "* Display the saved image with `cv2_imshow`."
      ]
    },
    {
      "cell_type": "code",
      "metadata": {
        "colab": {
          "base_uri": "https://localhost:8080/",
          "height": 308
        },
        "id": "_K80w1AOUlWd",
        "outputId": "2b42bc27-cb83-4091-a761-17b7e1d3bff5"
      },
      "source": [
        "import torch\n",
        "import cv2\n",
        "from google.colab.patches import cv2_imshow\n",
        "from torchvision.utils import save_image\n",
        "from stylegan2_pytorch import ModelLoader\n",
        "\n",
        "loader = ModelLoader(\n",
        "    base_dir = '/content/', name = 'ani-chara-gan'\n",
        ")\n",
        "\n",
        "noise   = torch.randn(1, 256).cuda() # noise\n",
        "styles  = loader.noise_to_styles(noise, trunc_psi = 0.7)  # pass through mapping network\n",
        "images  = loader.styles_to_images(styles) # call the generator on intermediate style vectors\n",
        "\n",
        "save_image(images, './sample.jpg')\n",
        "cv2_imshow(cv2.imread('./sample.jpg'))"
      ],
      "execution_count": 36,
      "outputs": [
        {
          "output_type": "stream",
          "name": "stdout",
          "text": [
            "continuing from previous epoch - 150\n",
            "loading from version 1.5.10\n"
          ]
        },
        {
          "output_type": "display_data",
          "data": {
            "image/png": "[encoded data removed]",
            "text/plain": [
              "<PIL.Image.Image image mode=RGB size=256x256 at 0x7F5B6C457350>"
            ]
          },
          "metadata": {}
        }
      ]
    },
    {
      "cell_type": "markdown",
      "metadata": {
        "id": "Ls9iaTOq1sjZ"
      },
      "source": [
        "We can connect to Google Drive with the following code. You can also click the `Files` icon on the left panel and click `Mount Drive` to mount your Google Drive.\n",
        "\n",
        "The root of your Google Drive will be mounted to `/content/drive/My Drive/`. If you have problems mounting the drive, you can check out this [tutorial](https://towardsdatascience.com/downloading-datasets-into-google-drive-via-google-colab-bcb1b30b0166)."
      ]
    },
    {
      "cell_type": "code",
      "metadata": {
        "id": "Wjvm5Hgb1xUG"
      },
      "source": [
        "from google.colab import drive\n",
        "drive.mount('/content/drive/')"
      ],
      "execution_count": null,
      "outputs": []
    },
    {
      "cell_type": "markdown",
      "metadata": {
        "id": "x9saxvqD1y2i"
      },
      "source": [
        "You can move the output files which are saved in the `/content/` directory to the root of your Google Drive."
      ]
    },
    {
      "cell_type": "code",
      "metadata": {
        "id": "ZP9LgfxM15bV"
      },
      "source": [
        "import shutil\n",
        "shutil.move('/content/sample.jpg', '/content/drive/My Drive/sample.jpg')"
      ],
      "execution_count": null,
      "outputs": []
    },
    {
      "cell_type": "markdown",
      "metadata": {
        "id": "SePiVWCp2FKv"
      },
      "source": [
        "More Notebooks @ [eugenesiow/practical-ml](https://github.com/eugenesiow/practical-ml) and do star or drop us some feedback on how to improve the notebooks on the [Github repo](https://github.com/eugenesiow/practical-ml/)."
      ]
    }
  ]
}